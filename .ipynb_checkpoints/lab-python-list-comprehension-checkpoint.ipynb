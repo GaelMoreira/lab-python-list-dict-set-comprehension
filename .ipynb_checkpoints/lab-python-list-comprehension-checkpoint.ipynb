{
 "cells": [
  {
   "cell_type": "markdown",
   "id": "25d7736c-ba17-4aff-b6bb-66eba20fbf4e",
   "metadata": {},
   "source": [
    "# Lab | List, Dict and Set Comprehension"
   ]
  },
  {
   "cell_type": "markdown",
   "id": "7dd3cbde-675a-4b81-92c3-f728846dbe06",
   "metadata": {},
   "source": [
    "## Exercise: Managing Customer Orders Optimized with Comprehension"
   ]
  },
  {
   "cell_type": "markdown",
   "id": "5d500160-2fb7-4777-b5e4-09d45ebaf328",
   "metadata": {},
   "source": [
    "In the previous exercise, you developed a program to manage customer orders and inventory. Now, let's take it a step further and incorporate comprehension into your code.\n",
    "\n",
    "Follow the steps below to complete the exercise:\n",
    "\n",
    "1. Review your code from the previous exercise and identify areas where you can apply comprehension to simplify and streamline your code. \n",
    "\n",
    "    - *Hint: Apply it to initialize inventory, updating the inventory and printing the updated inventory.*\n",
    "    \n",
    "    - For example, in initializing the inventory, we could have:\n",
    "    \n",
    "        ```python\n",
    "        def initialize_inventory(products):\n",
    "            inventory = {product: int(input(f\"Enter the quantity of {product}s available: \")) for product in products}\n",
    "            return inventory\n",
    "\n",
    "        ```\n",
    "<br>\n",
    "    \n",
    "    \n",
    "2. Modify the function get_customer_orders so it prompts the user to enter the number of customer orders and gathers the product names using a loop and user input. Use comprehension.\n",
    "\n",
    "3. Add a new function to calculate the total price of the customer order. For each product in customer_orders, prompt the user to enter the price of that product. Use comprehension to calculate the total price. Note: assume that the user can only have 1 unit of each product.\n",
    "\n",
    "4. Modify the update_inventory function to remove the product from the inventory if its quantity becomes zero after fulfilling the customer orders. Use comprehension to filter out the products with a quantity of zero from the inventory.\n",
    "\n",
    "5. Print the total price of the customer order.\n",
    "\n",
    "Your code should produce output similar to the following:\n",
    "\n",
    "```python\n",
    "Enter the quantity of t-shirts available:  5\n",
    "Enter the quantity of mugs available:  4\n",
    "Enter the quantity of hats available:  3\n",
    "Enter the quantity of books available:  2\n",
    "Enter the quantity of keychains available:  1\n",
    "Enter the number of customer orders:  2\n",
    "Enter the name of a product that a customer wants to order:  hat\n",
    "Enter the name of a product that a customer wants to order:  keychain\n",
    "\n",
    "Order Statistics:\n",
    "Total Products Ordered: 2\n",
    "Percentage of Unique Products Ordered: 40.0\n",
    "\n",
    "Updated Inventory:\n",
    "t-shirt: 5\n",
    "mug: 4\n",
    "hat: 2\n",
    "book: 2\n",
    "Enter the price of keychain:  5\n",
    "Enter the price of hat:  10\n",
    "Total Price: 15.0\n",
    "\n",
    "```\n"
   ]
  },
  {
   "cell_type": "code",
   "execution_count": 56,
   "id": "4ad950aa-c01f-4d0f-b2c4-853db1ff7a66",
   "metadata": {},
   "outputs": [],
   "source": [
    "products = [\"nestea\", \"acuarius\", \"fanta\", \"agua\", \"pepsi\"]"
   ]
  },
  {
   "cell_type": "code",
   "execution_count": 57,
   "id": "96d54e66-5b83-4369-9f37-dd98d0032014",
   "metadata": {},
   "outputs": [],
   "source": [
    "#1\n",
    "def initialize_inventory(products):\n",
    "    inventory = {product: int(input(f\"Enter the quantity of {product}s available: \")) for product in products}\n",
    "    return inventory"
   ]
  },
  {
   "cell_type": "code",
   "execution_count": 58,
   "id": "fcef4ac5-ff98-4887-8a37-9bde34fda5ab",
   "metadata": {},
   "outputs": [
    {
     "name": "stdin",
     "output_type": "stream",
     "text": [
      "Enter the quantity of nesteas available:  5\n",
      "Enter the quantity of acuariuss available:  6\n",
      "Enter the quantity of fantas available:  8\n",
      "Enter the quantity of aguas available:  7\n",
      "Enter the quantity of pepsis available:  8\n"
     ]
    }
   ],
   "source": [
    "inventory = initialize_inventory(products)"
   ]
  },
  {
   "cell_type": "code",
   "execution_count": 59,
   "id": "a010de63-c7ec-462b-a9e5-62493d5cdeb2",
   "metadata": {
    "scrolled": true
   },
   "outputs": [
    {
     "name": "stdin",
     "output_type": "stream",
     "text": [
      "enter how many products you want: 3\n",
      "what prodct you want?: fanta\n",
      "what prodct you want?: nestea\n",
      "what prodct you want?: pepsi\n"
     ]
    },
    {
     "data": {
      "text/plain": [
       "{'fanta', 'nestea', 'pepsi'}"
      ]
     },
     "execution_count": 59,
     "metadata": {},
     "output_type": "execute_result"
    }
   ],
   "source": [
    "#2\n",
    "def get_customer_orders():\n",
    "    quantity = int(input(\"enter how many products you want:\"))\n",
    "    customer_orders = set(input(\"what prodct you want?:\") for _ in range(quantity))\n",
    "    return customer_orders\n",
    "get_customer_orders()\n",
    "    "
   ]
  },
  {
   "cell_type": "code",
   "execution_count": 60,
   "id": "2f16c02a-ba9f-44a0-ac80-241ad8291499",
   "metadata": {},
   "outputs": [
    {
     "name": "stdin",
     "output_type": "stream",
     "text": [
      "enter how many products you want: 3\n",
      "what prodct you want?: fanta\n",
      "what prodct you want?: nestea\n",
      "what prodct you want?: pepsi\n"
     ]
    }
   ],
   "source": [
    "customer_orders = get_customer_orders()"
   ]
  },
  {
   "cell_type": "code",
   "execution_count": 61,
   "id": "e201f9f7-9044-4cb4-98a0-e2642a6f2fd6",
   "metadata": {},
   "outputs": [
    {
     "name": "stdin",
     "output_type": "stream",
     "text": [
      "Enter the price for fanta:  2\n",
      "Enter the price for pepsi:  3\n",
      "Enter the price for nestea:  4\n"
     ]
    },
    {
     "data": {
      "text/plain": [
       "9.0"
      ]
     },
     "execution_count": 61,
     "metadata": {},
     "output_type": "execute_result"
    }
   ],
   "source": [
    "#3\n",
    "def orders_price(customer_orders):\n",
    "    prices = sum([float(input(f\"Enter the price for {_}: \")) for _ in customer_orders])\n",
    "    return prices\n",
    "\n",
    "orders_price(customer_orders)"
   ]
  },
  {
   "cell_type": "code",
   "execution_count": 62,
   "id": "0bc85855-73a9-484e-8f1f-5ce0d415bdc5",
   "metadata": {},
   "outputs": [],
   "source": [
    "#4\n",
    "def update_inventory(customer_orders, inventory):\n",
    "    updated_inventory = {k:v -1 if k in customer_orders else v for k,v in inventory.items()}\n",
    "    \n",
    "    return updated_inventory"
   ]
  },
  {
   "cell_type": "code",
   "execution_count": 63,
   "id": "5d97012d-c74c-4da5-b95f-8d8edb532620",
   "metadata": {},
   "outputs": [],
   "source": [
    "updated_inventory = update_inventory(customer_orders, inventory)"
   ]
  },
  {
   "cell_type": "code",
   "execution_count": 64,
   "id": "885eaffc-8978-4d5e-bf01-1c251f06c84f",
   "metadata": {},
   "outputs": [
    {
     "data": {
      "text/plain": [
       "{'nestea': 4, 'acuarius': 6, 'fanta': 7, 'agua': 7, 'pepsi': 7}"
      ]
     },
     "execution_count": 64,
     "metadata": {},
     "output_type": "execute_result"
    }
   ],
   "source": [
    "updated_inventory"
   ]
  },
  {
   "cell_type": "code",
   "execution_count": 65,
   "id": "97c9aa24-2278-478e-b86f-72576e8e43f2",
   "metadata": {},
   "outputs": [
    {
     "name": "stdin",
     "output_type": "stream",
     "text": [
      "Enter the price for fanta:  2\n",
      "Enter the price for pepsi:  3\n",
      "Enter the price for nestea:  4\n"
     ]
    },
    {
     "name": "stdout",
     "output_type": "stream",
     "text": [
      "the total price is: 9.0\n"
     ]
    }
   ],
   "source": [
    "#5\n",
    "print(\"the total price is:\", orders_price(customer_orders))"
   ]
  },
  {
   "cell_type": "code",
   "execution_count": null,
   "id": "ba0399bc-bd0f-454d-9c15-2bae9a3f87e2",
   "metadata": {},
   "outputs": [],
   "source": []
  }
 ],
 "metadata": {
  "kernelspec": {
   "display_name": "Python 3 (ipykernel)",
   "language": "python",
   "name": "python3"
  },
  "language_info": {
   "codemirror_mode": {
    "name": "ipython",
    "version": 3
   },
   "file_extension": ".py",
   "mimetype": "text/x-python",
   "name": "python",
   "nbconvert_exporter": "python",
   "pygments_lexer": "ipython3",
   "version": "3.12.4"
  }
 },
 "nbformat": 4,
 "nbformat_minor": 5
}
